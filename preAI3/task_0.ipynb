{
 "cells": [
  {
   "cell_type": "code",
   "execution_count": 29,
   "metadata": {},
   "outputs": [],
   "source": [
    "import json\n",
    "import requests"
   ]
  },
  {
   "cell_type": "code",
   "execution_count": 30,
   "metadata": {},
   "outputs": [],
   "source": [
    "TASK='POLIGON'\n",
    "TASK_URL='https://poligon.aidevs.pl/dane.txt'\n",
    "ANSWER_URL='https://poligon.aidevs.pl/verify'\n",
    "API_URL=\"http://api.aidevs.local/\""
   ]
  },
  {
   "cell_type": "code",
   "execution_count": 31,
   "metadata": {},
   "outputs": [
    {
     "data": {
      "text/plain": [
       "'42451d2397_7f45b471effd2d99b6aa8715f883434d8b1f6cd8\\n733145d7c1_642726f6e893ce1fb96417997fb9a32846f17473\\n'"
      ]
     },
     "execution_count": 31,
     "metadata": {},
     "output_type": "execute_result"
    }
   ],
   "source": [
    "task_json = json.dumps({\"task_url\": TASK_URL})\n",
    "task = requests.post(API_URL+\"get-task\",data=task_json)\n",
    "task.text"
   ]
  },
  {
   "cell_type": "code",
   "execution_count": 32,
   "metadata": {},
   "outputs": [
    {
     "data": {
      "text/plain": [
       "['42451d2397_7f45b471effd2d99b6aa8715f883434d8b1f6cd8',\n",
       " '733145d7c1_642726f6e893ce1fb96417997fb9a32846f17473']"
      ]
     },
     "execution_count": 32,
     "metadata": {},
     "output_type": "execute_result"
    }
   ],
   "source": [
    "answer_list = task.text.splitlines()\n",
    "answer_list"
   ]
  },
  {
   "cell_type": "code",
   "execution_count": 33,
   "metadata": {},
   "outputs": [
    {
     "data": {
      "text/plain": [
       "'Answer send successfully, response status code=200\\nMessage:\\n{\\n    \"code\": 0,\\n    \"message\": \"Super. Wszystko OK!\"\\n}'"
      ]
     },
     "execution_count": 33,
     "metadata": {},
     "output_type": "execute_result"
    }
   ],
   "source": [
    "answer_json = json.dumps({\"task_id\": TASK, \"answer_url\": ANSWER_URL, \"answer_content\": answer_list})\n",
    "response = requests.post(API_URL+\"send-answer\",data=answer_json)\n",
    "response.text"
   ]
  }
 ],
 "metadata": {
  "kernelspec": {
   "display_name": ".venv",
   "language": "python",
   "name": "python3"
  },
  "language_info": {
   "codemirror_mode": {
    "name": "ipython",
    "version": 3
   },
   "file_extension": ".py",
   "mimetype": "text/x-python",
   "name": "python",
   "nbconvert_exporter": "python",
   "pygments_lexer": "ipython3",
   "version": "3.12.4"
  }
 },
 "nbformat": 4,
 "nbformat_minor": 2
}
