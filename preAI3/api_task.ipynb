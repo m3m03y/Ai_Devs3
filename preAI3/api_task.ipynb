{
 "cells": [
  {
   "cell_type": "code",
   "execution_count": 116,
   "metadata": {},
   "outputs": [],
   "source": [
    "import json\n",
    "import os\n",
    "import copy\n",
    "import requests"
   ]
  },
  {
   "cell_type": "code",
   "execution_count": 117,
   "metadata": {},
   "outputs": [],
   "source": [
    "TASK='POLIGON'\n",
    "TASK_URL='https://poligon.aidevs.pl/dane.txt'\n",
    "ANSWER_URL='https://poligon.aidevs.pl/verify'\n",
    "API_KEY=os.environ['API_KEY']"
   ]
  },
  {
   "cell_type": "code",
   "execution_count": 118,
   "metadata": {},
   "outputs": [],
   "source": [
    "def pretty_json(text: str):\n",
    "    print_text = copy.deepcopy(text)\n",
    "    if 'apikey' in print_text:\n",
    "        print_text['apikey']='<hidden>'\n",
    "    print(json.dumps(print_text, sort_keys=True, indent=4))"
   ]
  },
  {
   "cell_type": "code",
   "execution_count": 119,
   "metadata": {},
   "outputs": [],
   "source": [
    "task = requests.get(TASK_URL)"
   ]
  },
  {
   "cell_type": "code",
   "execution_count": 120,
   "metadata": {},
   "outputs": [],
   "source": [
    "def solve_task(task_text: str):\n",
    "    answer_list = task_text.splitlines()\n",
    "    answer = {\"task\": TASK, \"apikey\": API_KEY, \"answer\": answer_list}\n",
    "    print(pretty_json(answer))\n",
    "\n",
    "    return json.dumps(answer)"
   ]
  },
  {
   "cell_type": "markdown",
   "metadata": {},
   "source": [
    "Valid answer format:\n",
    "```\n",
    "{\n",
    "    \"task\": \"1234\",\n",
    "    \"apikey\": \"Twój klucz API\",\n",
    "    \"answer\": [0,1,2,3,4]\n",
    "}\n",
    "```"
   ]
  },
  {
   "cell_type": "code",
   "execution_count": 121,
   "metadata": {},
   "outputs": [
    {
     "name": "stdout",
     "output_type": "stream",
     "text": [
      "{\n",
      "    \"answer\": [\n",
      "        \"c709678d93_f902e30d82e0646705aaa25f05b0c7f426309a8a\",\n",
      "        \"ae613c5564_8086bed20c3da3863468f68e33765e8539185c13\"\n",
      "    ],\n",
      "    \"apikey\": \"<hidden>\",\n",
      "    \"task\": \"POLIGON\"\n",
      "}\n",
      "None\n",
      "Result status code = 200\n",
      "Result body:\n",
      "{\n",
      "    \"code\": 0,\n",
      "    \"message\": \"Super. Wszystko OK!\"\n",
      "}\n"
     ]
    }
   ],
   "source": [
    "result = requests.post(ANSWER_URL, data=solve_task(task.text))\n",
    "print(f'Result status code = {result.status_code}\\nResult body:\\n{result.text}')"
   ]
  }
 ],
 "metadata": {
  "kernelspec": {
   "display_name": ".venv",
   "language": "python",
   "name": "python3"
  },
  "language_info": {
   "codemirror_mode": {
    "name": "ipython",
    "version": 3
   },
   "file_extension": ".py",
   "mimetype": "text/x-python",
   "name": "python",
   "nbconvert_exporter": "python",
   "pygments_lexer": "ipython3",
   "version": "3.12.4"
  }
 },
 "nbformat": 4,
 "nbformat_minor": 2
}
